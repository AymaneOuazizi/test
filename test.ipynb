{
 "cells": [
  {
   "cell_type": "markdown",
   "id": "5a67c9ca-40d5-4ccc-b7d9-cb63feea3d62",
   "metadata": {},
   "source": [
    "# Data Science Tools and Ecosystem"
   ]
  },
  {
   "cell_type": "markdown",
   "id": "5ddd68e5-534c-42fa-9599-43bfac6ba702",
   "metadata": {},
   "source": [
    "this is an intoduction to data science tools."
   ]
  },
  {
   "cell_type": "markdown",
   "id": "5d0e0a9f-09bb-463c-8b8b-194fc11ad601",
   "metadata": {},
   "source": [
    "# Some popular languages used in data science :\n",
    "1. Python\n",
    "2. R\n",
    "3. SQL"
   ]
  },
  {
   "cell_type": "markdown",
   "id": "8c541166-2ea9-436e-8428-481921ddb40a",
   "metadata": {},
   "source": [
    "# some popular libraries used in python : \n",
    "1. NumPy\n",
    "2. Pandas\n",
    "3. Matplotlib\n",
    "4. Scikit-learn\n",
    "5. TensorFlow"
   ]
  },
  {
   "cell_type": "markdown",
   "id": "e9513034-c6d3-4afe-a2c9-e2e48d2c4ad0",
   "metadata": {},
   "source": [
    "# this is a table contain some data science tools:\n",
    "| Tool           | Description                                         |\n",
    "|----------------|-----------------------------------------------------|\n",
    "| Jupyter        | Interactive computing environment                   |\n",
    "| RStudio        | IDE for R                                           |\n",
    "| Apache Spark   | Cluster-computing framework                         |\n",
    "| TensorFlow     | Machine learning library                            |"
   ]
  },
  {
   "cell_type": "markdown",
   "id": "2a922fd7-7a32-4748-9ec5-11248ff9f6ec",
   "metadata": {},
   "source": [
    "In this section, I will demonstrate some basic arithmetic expressions."
   ]
  },
  {
   "cell_type": "code",
   "execution_count": 8,
   "id": "04aba459-4479-4a26-837f-a163b0b0c400",
   "metadata": {},
   "outputs": [
    {
     "name": "stdout",
     "output_type": "stream",
     "text": [
      "9\n",
      "20\n"
     ]
    }
   ],
   "source": [
    "a = 4\n",
    "b = 5\n",
    "x = a+b\n",
    "y = a*b\n",
    "print(x)\n",
    "print(y)"
   ]
  },
  {
   "cell_type": "code",
   "execution_count": 1,
   "id": "46ef24a2-936c-4424-8541-7e85ada934e7",
   "metadata": {},
   "outputs": [
    {
     "data": {
      "text/plain": [
       "3.3333333333333335"
      ]
     },
     "execution_count": 1,
     "metadata": {},
     "output_type": "execute_result"
    }
   ],
   "source": [
    "minutes = 200\n",
    "hours = minutes / 60\n",
    "hours"
   ]
  },
  {
   "cell_type": "markdown",
   "id": "f4468f42-7e36-431f-bc9f-5698fa21fb53",
   "metadata": {},
   "source": [
    "# The objectives of this notebook are:\n",
    "- Understand the key programming languages used in data science\n",
    "- Familiarize with important data science libraries\n",
    "- Learn about various data science tools\n",
    "- Practice basic arithmetic operations in Python"
   ]
  },
  {
   "cell_type": "markdown",
   "id": "a5573274-8cde-4c8d-bee8-dacda1f62d30",
   "metadata": {},
   "source": [
    "\n",
    "# Author \n",
    "Aymane AIT OUAZIZI "
   ]
  },
  {
   "cell_type": "code",
   "execution_count": null,
   "id": "c66472bb-f63b-468c-86d1-cb5e7fa569bc",
   "metadata": {},
   "outputs": [],
   "source": []
  }
 ],
 "metadata": {
  "kernelspec": {
   "display_name": "Python 3 (ipykernel)",
   "language": "python",
   "name": "python3"
  },
  "language_info": {
   "codemirror_mode": {
    "name": "ipython",
    "version": 3
   },
   "file_extension": ".py",
   "mimetype": "text/x-python",
   "name": "python",
   "nbconvert_exporter": "python",
   "pygments_lexer": "ipython3",
   "version": "3.12.7"
  }
 },
 "nbformat": 4,
 "nbformat_minor": 5
}
